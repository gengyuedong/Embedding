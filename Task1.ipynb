{
 "cells": [
  {
   "cell_type": "code",
   "execution_count": 4,
   "metadata": {},
   "outputs": [
    {
     "name": "stderr",
     "output_type": "stream",
     "text": [
      "c:\\Users\\12162\\anaconda3\\Lib\\site-packages\\keras\\src\\initializers\\initializers.py:120: UserWarning: The initializer VarianceScaling is unseeded and being called multiple times, which will return identical values each time (even if the initializer is unseeded). Please update your code to provide a seed to the initializer, or avoid using the same initializer instance more than once.\n",
      "  warnings.warn(\n",
      "C:\\Users\\12162\\AppData\\Local\\Temp\\ipykernel_12124\\2761533188.py:12: DeprecationWarning:         `get_structures` is deprecated!\n",
      "        get_structures is deprecated and will be removed in 2024. Use parse_structures instead.The only difference is that primitive defaults to False in the new parse_structures method.So parse_structures(primitive=True) is equivalent to the old behavior of get_structures().\n",
      "  structure = parser.get_structures()[0]\n"
     ]
    },
    {
     "name": "stdout",
     "output_type": "stream",
     "text": [
      "The predicted K for Si is 80 GPa.\n"
     ]
    }
   ],
   "source": [
    "from pymatgen.io.cif import CifParser\n",
    "from pymatgen.core.lattice import Lattice\n",
    "from pymatgen.core.interface import Interface\n",
    "from megnet.utils.models import load_model\n",
    "from pymatgen.core import Structure, Lattice\n",
    "\n",
    "# load a model in megnet.utils.models.AVAILABLE_MODELS\n",
    "model = load_model(\"logK_MP_2018\")\n",
    "\n",
    "# Load the CIF file\n",
    "parser = CifParser(r\"C:\\Users\\12162\\Documents\\GreenDynamics\\data\\AMS_DATA.cif\")\n",
    "structure = parser.get_structures()[0]\n",
    "# structure = parser.parse_structures(primitive=False)\n",
    "# Extract lattice information\n",
    "lattice = structure.lattice\n",
    "# Extract species and coordinates\n",
    "species = structure.species\n",
    "coords = structure.frac_coords\n",
    "\n",
    "\n",
    "predicted_K = 10 ** model.predict_structure(structure).ravel()[0]\n",
    "print(f'The predicted K for {structure.composition.reduced_formula} is {predicted_K:.0f} GPa.')\n",
    "\n"
   ]
  },
  {
   "cell_type": "code",
   "execution_count": 5,
   "metadata": {},
   "outputs": [
    {
     "name": "stderr",
     "output_type": "stream",
     "text": [
      "C:\\Users\\12162\\AppData\\Local\\Temp\\ipykernel_12124\\2761533188.py:12: DeprecationWarning:         `get_structures` is deprecated!\n",
      "        get_structures is deprecated and will be removed in 2024. Use parse_structures instead.The only difference is that primitive defaults to False in the new parse_structures method.So parse_structures(primitive=True) is equivalent to the old behavior of get_structures().\n",
      "  structure = parser.get_structures()[0]\n"
     ]
    },
    {
     "name": "stdout",
     "output_type": "stream",
     "text": [
      "The predicted K for Si is 80 GPa.\n"
     ]
    }
   ],
   "source": [
    "from pymatgen.io.cif import CifParser\n",
    "from pymatgen.core.lattice import Lattice\n",
    "from pymatgen.core.interface import Interface\n",
    "from megnet.utils.models import load_model\n",
    "from pymatgen.core import Structure, Lattice\n",
    "\n",
    "# load a model in megnet.utils.models.AVAILABLE_MODELS\n",
    "model = load_model(\"logK_MP_2018\")\n",
    "\n",
    "# Load the CIF file\n",
    "parser = CifParser(r\"C:\\Users\\12162\\Documents\\GreenDynamics\\data\\AMS_DATA.cif\")\n",
    "structure = parser.get_structures()[0]\n",
    "# structure = parser.parse_structures(primitive=False)\n",
    "# Extract lattice information\n",
    "lattice = structure.lattice\n",
    "# Extract species and coordinates\n",
    "species = structure.species\n",
    "coords = structure.frac_coords\n",
    "\n",
    "\n",
    "predicted_K = 10 ** model.predict_structure(structure).ravel()[0]\n",
    "print(f'The predicted K for {structure.composition.reduced_formula} is {predicted_K:.0f} GPa.')\n",
    "\n"
   ]
  },
  {
   "cell_type": "code",
   "execution_count": 6,
   "metadata": {},
   "outputs": [
    {
     "name": "stderr",
     "output_type": "stream",
     "text": [
      "C:\\Users\\12162\\AppData\\Local\\Temp\\ipykernel_12124\\942962262.py:12: DeprecationWarning:         `get_structures` is deprecated!\n",
      "        get_structures is deprecated and will be removed in 2024. Use parse_structures instead.The only difference is that primitive defaults to False in the new parse_structures method.So parse_structures(primitive=True) is equivalent to the old behavior of get_structures().\n",
      "  structure = parser.get_structures()[0]\n",
      "c:\\Users\\12162\\anaconda3\\Lib\\site-packages\\pymatgen\\io\\cif.py:1224: UserWarning: Issues encountered while parsing CIF: 2 fractional coordinates rounded to ideal values to avoid issues with finite precision.\n",
      "  warnings.warn(\"Issues encountered while parsing CIF: \" + \"\\n\".join(self.warnings))\n"
     ]
    },
    {
     "name": "stdout",
     "output_type": "stream",
     "text": [
      "The predicted K for C is 175 GPa.\n"
     ]
    }
   ],
   "source": [
    "\n",
    "\n",
    "\n",
    "from pymatgen.io.cif import CifParser\n",
    "from pymatgen.core.lattice import Lattice\n",
    "from pymatgen.core.interface import Interface\n",
    "from megnet.utils.models import load_model\n",
    "from pymatgen.core import Structure, Lattice\n",
    "\n",
    "# load a model in megnet.utils.models.AVAILABLE_MODELS\n",
    "model = load_model(\"logK_MP_2018\")\n",
    "\n",
    "# Load the CIF file\n",
    "parser = CifParser(r\"c:\\Users\\12162\\Documents\\GreenDynamics\\data\\9014004.cif\")\n",
    "structure = parser.get_structures()[0]\n",
    "# structure = parser.parse_structures(primitive=False)\n",
    "# Extract lattice information\n",
    "lattice = structure.lattice\n",
    "# Extract species and coordinates\n",
    "species = structure.species\n",
    "coords = structure.frac_coords\n",
    "\n",
    "\n",
    "predicted_K = 10 ** model.predict_structure(structure).ravel()[0]\n",
    "print(f'The predicted K for {structure.composition.reduced_formula} is {predicted_K:.0f} GPa.')\n",
    "\n"
   ]
  },
  {
   "cell_type": "code",
   "execution_count": 7,
   "metadata": {},
   "outputs": [],
   "source": [
    "#Predicting other properties\n",
    "\n",
    "from megnet.utils.models import load_model, AVAILABLE_MODELS\n",
    "from pymatgen.core import Structure, Lattice\n",
    "from pymatgen.ext.matproj import MPRester"
   ]
  },
  {
   "cell_type": "code",
   "execution_count": 11,
   "metadata": {},
   "outputs": [
    {
     "name": "stderr",
     "output_type": "stream",
     "text": [
      "C:\\Users\\12162\\AppData\\Local\\Temp\\ipykernel_12124\\1322549483.py:3: DeprecationWarning:         `get_structures` is deprecated!\n",
      "        get_structures is deprecated and will be removed in 2024. Use parse_structures instead.The only difference is that primitive defaults to False in the new parse_structures method.So parse_structures(primitive=True) is equivalent to the old behavior of get_structures().\n",
      "  structure = parser.get_structures()[0]\n",
      "c:\\Users\\12162\\anaconda3\\Lib\\site-packages\\keras\\src\\initializers\\initializers.py:120: UserWarning: The initializer VarianceScaling is unseeded and being called multiple times, which will return identical values each time (even if the initializer is unseeded). Please update your code to provide a seed to the initializer, or avoid using the same initializer instance more than once.\n",
      "  warnings.warn(\n"
     ]
    },
    {
     "name": "stdout",
     "output_type": "stream",
     "text": [
      "The predicted Eform for Si is -0.018 eV/atom.\n",
      "WARNING:tensorflow:5 out of the last 5 calls to <function Model.make_predict_function.<locals>.predict_function at 0x000001815AC34900> triggered tf.function retracing. Tracing is expensive and the excessive number of tracings could be due to (1) creating @tf.function repeatedly in a loop, (2) passing tensors with different shapes, (3) passing Python objects instead of tensors. For (1), please define your @tf.function outside of the loop. For (2), @tf.function has reduce_retracing=True option that can avoid unnecessary retracing. For (3), please refer to https://www.tensorflow.org/guide/function#controlling_retracing and https://www.tensorflow.org/api_docs/python/tf/function for  more details.\n",
      "The predicted Efermi for Si is 5.917 eV.\n",
      "WARNING:tensorflow:6 out of the last 6 calls to <function Model.make_predict_function.<locals>.predict_function at 0x00000181598A2E80> triggered tf.function retracing. Tracing is expensive and the excessive number of tracings could be due to (1) creating @tf.function repeatedly in a loop, (2) passing tensors with different shapes, (3) passing Python objects instead of tensors. For (1), please define your @tf.function outside of the loop. For (2), @tf.function has reduce_retracing=True option that can avoid unnecessary retracing. For (3), please refer to https://www.tensorflow.org/guide/function#controlling_retracing and https://www.tensorflow.org/api_docs/python/tf/function for  more details.\n",
      "The predicted K for Si is 80.462 10(GPa).\n",
      "The predicted G for Si is 57.262 10(GPa).\n"
     ]
    }
   ],
   "source": [
    "mpr = MPRester(\"elhcDq8vDoDAE3JdFXQjF1abwZ3Hr1kB\")\n",
    "parser = CifParser(r\"C:\\Users\\12162\\Documents\\GreenDynamics\\data\\AMS_DATA.cif\")\n",
    "structure = parser.get_structures()[0]\n",
    "# structure = parser.parse_structures(primitive=False)\n",
    "# Extract lattice information\n",
    "lattice = structure.lattice\n",
    "# Extract species and coordinates\n",
    "species = structure.species\n",
    "coords = structure.frac_coords\n",
    "structures = {}\n",
    "structures[\"Si\"] = structure\n",
    "for model_name in AVAILABLE_MODELS:\n",
    "    if model_name.endswith(\"_2019\"):\n",
    "        model = load_model(model_name)\n",
    "        model.metadata\n",
    "        for name, structure in structures.items():\n",
    "            if model_name.startswith(\"log\"):\n",
    "                prediction = 10 ** model.predict_structure(structure).ravel()[0]\n",
    "            else:\n",
    "                prediction = model.predict_structure(structure).ravel()[0]\n",
    "            prop_name = model_name.split(\"_\")[0].replace(\"log\", \"\")\n",
    "            print(f'The predicted {prop_name} for {name} is {prediction:.3f} {model.metadata[\"unit\"].replace(\"log\", \"\")}.')"
   ]
  },
  {
   "cell_type": "code",
   "execution_count": 9,
   "metadata": {},
   "outputs": [
    {
     "name": "stderr",
     "output_type": "stream",
     "text": [
      "C:\\Users\\12162\\AppData\\Local\\Temp\\ipykernel_12124\\1591567119.py:48: DeprecationWarning:         `get_structures` is deprecated!\n",
      "        get_structures is deprecated and will be removed in 2024. Use parse_structures instead.The only difference is that primitive defaults to False in the new parse_structures method.So parse_structures(primitive=True) is equivalent to the old behavior of get_structures().\n",
      "  structure = parser.get_structures()[0]\n"
     ]
    },
    {
     "data": {
      "image/png": "[encoded data removed]",
      "text/plain": [
       "<Figure size 640x480 with 1 Axes>"
      ]
     },
     "metadata": {},
     "output_type": "display_data"
    },
    {
     "name": "stdout",
     "output_type": "stream",
     "text": [
      "Graph with 2 nodes and 1 edges\n"
     ]
    },
    {
     "ename": "NameError",
     "evalue": "name 'embed_graph' is not defined",
     "output_type": "error",
     "traceback": [
      "\u001b[1;31m---------------------------------------------------------------------------\u001b[0m",
      "\u001b[1;31mNameError\u001b[0m                                 Traceback (most recent call last)",
      "Cell \u001b[1;32mIn[9], line 56\u001b[0m\n\u001b[0;32m     53\u001b[0m \u001b[38;5;28mprint\u001b[39m(graph)\n\u001b[0;32m     55\u001b[0m \u001b[38;5;66;03m# Get embedding\u001b[39;00m\n\u001b[1;32m---> 56\u001b[0m embedding \u001b[38;5;241m=\u001b[39m embed_graph(graph)\n\u001b[0;32m     57\u001b[0m \u001b[38;5;28;01mif\u001b[39;00m embedding \u001b[38;5;129;01mis\u001b[39;00m \u001b[38;5;129;01mnot\u001b[39;00m \u001b[38;5;28;01mNone\u001b[39;00m:\n\u001b[0;32m     58\u001b[0m     plt\u001b[38;5;241m.\u001b[39mscatter(embedding[:, \u001b[38;5;241m0\u001b[39m], embedding[:, \u001b[38;5;241m1\u001b[39m])\n",
      "\u001b[1;31mNameError\u001b[0m: name 'embed_graph' is not defined"
     ]
    }
   ],
   "source": [
    "from pymatgen.io.cif import CifParser\n",
    "import matplotlib.pyplot as plt\n",
    "import networkx as nx\n",
    "from sklearn.decomposition import PCA\n",
    "from karateclub.node_embedding.neighbourhood.deepwalk import DeepWalk\n",
    "    \n",
    "\n",
    "def cif2graph(structure, name, plot=False, max_bond_length=3.0, label_font_size=15):  # max_bond_length is in angstrom\n",
    "    # Create the graph\n",
    "    G = nx.Graph()\n",
    "    for i, site in enumerate(structure):\n",
    "        # Label with element name and index\n",
    "        label = f\"${site.specie.symbol}_{i}$\"\n",
    "        G.add_node(i, element=site.specie.symbol, position=site.frac_coords, label=label)\n",
    "\n",
    "    for i, site in enumerate(structure):\n",
    "        neighbors = structure.get_neighbors(site, max_bond_length)\n",
    "        for neighbor in neighbors:\n",
    "            for j, other_site in enumerate(structure):\n",
    "                if neighbor.is_periodic_image(other_site):\n",
    "                    weight = round(site.distance(other_site), 2)\n",
    "                    if not G.has_edge(i, j):\n",
    "                        G.add_edge(i, j, weight=weight)\n",
    "                    break\n",
    "\n",
    "    # Check if plot is required\n",
    "    if plot:\n",
    "        # Use a spring layout\n",
    "        pos = nx.spring_layout(G)\n",
    "\n",
    "        # Draw the graph\n",
    "        # Using custom labels and adjustable font size for labels\n",
    "        labels = nx.get_node_attributes(G, 'label')\n",
    "        nx.draw(G, pos, labels=labels, with_labels=True, node_size=500, node_color=\"skyblue\", font_size=label_font_size)\n",
    "\n",
    "        # Draw edge labels (weights)\n",
    "        edge_labels = nx.get_edge_attributes(G, 'weight')\n",
    "        nx.draw_networkx_edge_labels(G, pos, edge_labels=edge_labels)\n",
    "\n",
    "        plt.savefig(f\"{name}.png\")\n",
    "        plt.show()\n",
    "\n",
    "    return G\n",
    "\n",
    "\n",
    "# Outside the function, read CIF file and get the structure\n",
    "parser = CifParser(r\"C:\\Users\\12162\\Documents\\GreenDynamics\\data\\AMS_DATA.cif\")\n",
    "structure = parser.get_structures()[0]\n",
    "# print(structure)\n",
    "name = \"Si\"\n",
    "# Call the function with the structure\n",
    "graph = cif2graph(structure,name, True, 3)\n",
    "print(graph)\n",
    "\n",
    "# Get embedding\n",
    "embedding = embed_graph(graph)\n",
    "if embedding is not None:\n",
    "    plt.scatter(embedding[:, 0], embedding[:, 1])\n",
    "    plt.show()\n",
    "\n",
    "\n"
   ]
  },
  {
   "cell_type": "code",
   "execution_count": null,
   "metadata": {},
   "outputs": [
    {
     "data": {
      "image/png": "[encoded data removed]",
      "text/plain": [
       "<Figure size 640x480 with 1 Axes>"
      ]
     },
     "metadata": {},
     "output_type": "display_data"
    },
    {
     "name": "stdout",
     "output_type": "stream",
     "text": [
      "(2, 2)\n"
     ]
    }
   ],
   "source": [
    "#embedding\n",
    "plt.figure()\n",
    "deepwalk = DeepWalk(dimensions = 2)\n",
    "deepwalk.fit(graph)\n",
    "embedding = deepwalk.get_embedding()\n",
    "plt.scatter(embedding[:,0],embedding[:,1])\n",
    "plt.show()\n",
    "print(embedding.shape)"
   ]
  },
  {
   "cell_type": "code",
   "execution_count": null,
   "metadata": {},
   "outputs": [
    {
     "name": "stdout",
     "output_type": "stream",
     "text": [
      "Full Formula (Al1)\n",
      "Reduced Formula: Al\n",
      "abc   :   2.857737   2.857737   2.857737\n",
      "angles:  60.000000  60.000000  60.000000\n",
      "pbc   :       True       True       True\n",
      "Sites (1)\n",
      "  #  SP      a    b    c\n",
      "---  ----  ---  ---  ---\n",
      "  0  Al      0    0    0\n"
     ]
    },
    {
     "name": "stderr",
     "output_type": "stream",
     "text": [
      "C:\\Users\\12162\\AppData\\Local\\Temp\\ipykernel_27300\\309323794.py:47: DeprecationWarning:         `get_structures` is deprecated!\n",
      "        get_structures is deprecated and will be removed in 2024. Use parse_structures instead.The only difference is that primitive defaults to False in the new parse_structures method.So parse_structures(primitive=True) is equivalent to the old behavior of get_structures().\n",
      "  structure = parser.get_structures()[0]\n"
     ]
    },
    {
     "data": {
      "image/png": "[encoded data removed]",
      "text/plain": [
       "<Figure size 640x480 with 1 Axes>"
      ]
     },
     "metadata": {},
     "output_type": "display_data"
    },
    {
     "data": {
      "text/plain": [
       "<networkx.classes.graph.Graph at 0x195127a1810>"
      ]
     },
     "execution_count": 64,
     "metadata": {},
     "output_type": "execute_result"
    }
   ],
   "source": [
    "from pymatgen.io.cif import CifParser\n",
    "import matplotlib.pyplot as plt\n",
    "import networkx as nx\n",
    "\n",
    "import networkx as nx\n",
    "import matplotlib.pyplot as plt\n",
    "\n",
    "def cif2graph(structure, name, plot=False, max_bond_length = 3): # max_bond_length is in angstrom\n",
    "    # Create the graph\n",
    "    G = nx.Graph()\n",
    "    for i, site in enumerate(structure):\n",
    "        G.add_node(i, element=site.specie.symbol, position=site.frac_coords)\n",
    "\n",
    "    max_bond_length = 3.0\n",
    "    for i, site in enumerate(structure):\n",
    "        neighbors = structure.get_neighbors(site, max_bond_length)\n",
    "        for neighbor in neighbors:\n",
    "            for j, other_site in enumerate(structure):\n",
    "                if neighbor.is_periodic_image(other_site):\n",
    "                    weight = round(site.distance(other_site), 2)\n",
    "                    if not G.has_edge(i, j):\n",
    "                        G.add_edge(i, j, weight=weight)\n",
    "                    break\n",
    "\n",
    "    # Check if plot is required\n",
    "    if plot:\n",
    "        # Use a spring layout\n",
    "        pos = nx.spring_layout(G)\n",
    "\n",
    "        # Draw the graph\n",
    "        nx.draw(G, pos, with_labels=True, node_size=500, node_color=\"skyblue\", font_size=8)\n",
    "\n",
    "        # Draw edge labels (weights)\n",
    "        edge_labels = nx.get_edge_attributes(G, 'weight')\n",
    "        nx.draw_networkx_edge_labels(G, pos, edge_labels=edge_labels)\n",
    "\n",
    "        plt.savefig(f\"{name}.png\")\n",
    "        plt.show()\n",
    "\n",
    "    return G\n",
    "\n",
    "\n",
    "    \n",
    "\n",
    "# Outside the function, read CIF file and get the structure\n",
    "parser = CifParser(r\"C:\\Users\\12162\\Documents\\GreenDynamics\\data\\Al_300K.cif\")\n",
    "structure = parser.get_structures()[0]\n",
    "print(structure)\n",
    "name = \"Al\"\n",
    "# Call the function with the structure\n",
    "cif2graph(structure,name,True,10)\n"
   ]
  },
  {
   "cell_type": "code",
   "execution_count": null,
   "metadata": {},
   "outputs": [
    {
     "name": "stderr",
     "output_type": "stream",
     "text": [
      "C:\\Users\\12162\\AppData\\Local\\Temp\\ipykernel_27300\\3382539880.py:2: DeprecationWarning:         `get_structures` is deprecated!\n",
      "        get_structures is deprecated and will be removed in 2024. Use parse_structures instead.The only difference is that primitive defaults to False in the new parse_structures method.So parse_structures(primitive=True) is equivalent to the old behavior of get_structures().\n",
      "  structure = parser.get_structures()[0]\n"
     ]
    },
    {
     "name": "stdout",
     "output_type": "stream",
     "text": [
      "The predicted Eform for Al is 0.009 eV/atom.\n",
      "The predicted Efermi for Al is 8.072 eV.\n",
      "The predicted K for Al is 83.372 10(GPa).\n",
      "The predicted G for Al is 23.095 10(GPa).\n"
     ]
    }
   ],
   "source": [
    "parser = CifParser(r\"C:\\Users\\12162\\Documents\\GreenDynamics\\data\\Al_300K.cif\")\n",
    "structure = parser.get_structures()[0]\n",
    "# structure = parser.parse_structures(primitive=False)\n",
    "# Extract lattice information\n",
    "lattice = structure.lattice\n",
    "# Extract species and coordinates\n",
    "species = structure.species\n",
    "coords = structure.frac_coords\n",
    "structures = {}\n",
    "structures[\"Al\"] = structure\n",
    "for model_name in AVAILABLE_MODELS:\n",
    "    if model_name.endswith(\"_2019\"):\n",
    "        model = load_model(model_name)\n",
    "        model.metadata\n",
    "        for name, structure in structures.items():\n",
    "            if model_name.startswith(\"log\"):\n",
    "                prediction = 10 ** model.predict_structure(structure).ravel()[0]\n",
    "            else:\n",
    "                prediction = model.predict_structure(structure).ravel()[0]\n",
    "            prop_name = model_name.split(\"_\")[0].replace(\"log\", \"\")\n",
    "            print(f'The predicted {prop_name} for {name} is {prediction:.3f} {model.metadata[\"unit\"].replace(\"log\", \"\")}.')"
   ]
  },
  {
   "cell_type": "code",
   "execution_count": null,
   "metadata": {},
   "outputs": [],
   "source": []
  }
 ],
 "metadata": {
  "kernelspec": {
   "display_name": "base",
   "language": "python",
   "name": "python3"
  },
  "language_info": {
   "codemirror_mode": {
    "name": "ipython",
    "version": 3
   },
   "file_extension": ".py",
   "mimetype": "text/x-python",
   "name": "python",
   "nbconvert_exporter": "python",
   "pygments_lexer": "ipython3",
   "version": "3.11.4"
  }
 },
 "nbformat": 4,
 "nbformat_minor": 2
}
